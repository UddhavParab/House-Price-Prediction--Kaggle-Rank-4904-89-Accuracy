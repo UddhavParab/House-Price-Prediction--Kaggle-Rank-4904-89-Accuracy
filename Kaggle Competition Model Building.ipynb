{
 "cells": [
  {
   "cell_type": "code",
   "execution_count": 1,
   "id": "767bd698",
   "metadata": {},
   "outputs": [],
   "source": [
    "import os\n",
    "\n",
    "\n",
    "import pandas as pd\n",
    "pd.set_option('display.max_column',None)\n",
    "\n",
    "\n",
    "import warnings\n",
    "warnings.filterwarnings('ignore')\n",
    "\n",
    "\n",
    "import math\n",
    "import numpy as np\n",
    "import matplotlib.pyplot as plt\n",
    "import seaborn as sns\n",
    "from scipy import stats \n",
    "import statsmodels.api as sm\n",
    "import statsmodels.formula.api as smf\n",
    "from statsmodels.formula.api import ols\n",
    "from statsmodels.stats.multicomp import pairwise_tukeyhsd\n",
    "from scipy.stats import chi2, chi2_contingency\n",
    "from statsmodels.stats.multicomp import pairwise_tukeyhsd\n",
    "from scipy.stats import pearsonr\n",
    "\n",
    "\n",
    "import sklearn\n",
    "from sklearn.linear_model import Lasso, LassoCV, Ridge, RidgeCV\n",
    "from sklearn.model_selection import cross_val_predict, train_test_split\n",
    "from statsmodels.stats.outliers_influence import variance_inflation_factor\n",
    "from sklearn.preprocessing import StandardScaler\n",
    "from sklearn.linear_model import SGDRegressor\n",
    "from sklearn.metrics import mean_squared_error\n",
    "from sklearn.linear_model import LogisticRegression\n",
    "from sklearn.metrics import roc_curve, roc_auc_score\n",
    "from sklearn.metrics import confusion_matrix, classification_report\n",
    "from sklearn.utils import resample\n",
    "from sklearn.metrics import confusion_matrix, classification_report\n",
    "from sklearn.feature_selection import RFE\n",
    "from imblearn.over_sampling import SMOTE\n",
    "\n",
    "get_ipython().run_line_magic('matplotlib', 'inline')\n",
    "sns.set(style=\"white\")\n",
    "sns.set(style=\"whitegrid\", color_codes=True)"
   ]
  },
  {
   "cell_type": "code",
   "execution_count": 6,
   "id": "7abc7a97",
   "metadata": {},
   "outputs": [],
   "source": [
    "df_train = pd.read_csv(r'D:\\train.csv')\n",
    "df_test = pd.read_csv(r'D:\\test.csv')"
   ]
  },
  {
   "cell_type": "code",
   "execution_count": 14,
   "id": "e28dcaec",
   "metadata": {},
   "outputs": [],
   "source": [
    "df_train.drop(columns = ['MasVnrArea'], axis=1, inplace=True)\n",
    "df_test.drop(columns = ['MasVnrArea'], axis=1, inplace=True)"
   ]
  },
  {
   "cell_type": "code",
   "execution_count": 15,
   "id": "d1e4d071",
   "metadata": {},
   "outputs": [
    {
     "name": "stdout",
     "output_type": "stream",
     "text": [
      "<class 'pandas.core.frame.DataFrame'>\n",
      "RangeIndex: 1450 entries, 0 to 1449\n",
      "Data columns (total 16 columns):\n",
      " #   Column        Non-Null Count  Dtype \n",
      "---  ------        --------------  ----- \n",
      " 0   Neighborhood  1450 non-null   object\n",
      " 1   ExterQual     1450 non-null   object\n",
      " 2   Foundation    1450 non-null   object\n",
      " 3   BsmtQual      1450 non-null   object\n",
      " 4   BsmtFinType1  1450 non-null   object\n",
      " 5   TotalBsmtSF   1450 non-null   int64 \n",
      " 6   HeatingQC     1450 non-null   object\n",
      " 7   firstFlrSF    1450 non-null   int64 \n",
      " 8   GrLivArea     1450 non-null   int64 \n",
      " 9   KitchenQual   1450 non-null   object\n",
      " 10  GarageType    1450 non-null   object\n",
      " 11  GarageFinish  1450 non-null   object\n",
      " 12  GarageCars    1450 non-null   int64 \n",
      " 13  GarageArea    1450 non-null   int64 \n",
      " 14  GarageQual    1450 non-null   object\n",
      " 15  SalePrice     1450 non-null   int64 \n",
      "dtypes: int64(6), object(10)\n",
      "memory usage: 181.4+ KB\n"
     ]
    }
   ],
   "source": [
    "df_train.info()"
   ]
  },
  {
   "cell_type": "code",
   "execution_count": 16,
   "id": "1bb9055c",
   "metadata": {},
   "outputs": [
    {
     "name": "stdout",
     "output_type": "stream",
     "text": [
      "<class 'pandas.core.frame.DataFrame'>\n",
      "RangeIndex: 1452 entries, 0 to 1451\n",
      "Data columns (total 16 columns):\n",
      " #   Column        Non-Null Count  Dtype  \n",
      "---  ------        --------------  -----  \n",
      " 0   Neighborhood  1452 non-null   object \n",
      " 1   ExterQual     1452 non-null   object \n",
      " 2   Foundation    1452 non-null   object \n",
      " 3   BsmtQual      1452 non-null   object \n",
      " 4   BsmtFinType1  1452 non-null   object \n",
      " 5   TotalBsmtSF   1452 non-null   float64\n",
      " 6   HeatingQC     1452 non-null   object \n",
      " 7   CentralAir    1452 non-null   object \n",
      " 8   firstFlrSF    1452 non-null   int64  \n",
      " 9   GrLivArea     1452 non-null   int64  \n",
      " 10  KitchenQual   1451 non-null   object \n",
      " 11  GarageType    1452 non-null   object \n",
      " 12  GarageFinish  1452 non-null   object \n",
      " 13  GarageCars    1452 non-null   float64\n",
      " 14  GarageArea    1452 non-null   float64\n",
      " 15  GarageQual    1452 non-null   object \n",
      "dtypes: float64(3), int64(2), object(11)\n",
      "memory usage: 181.6+ KB\n"
     ]
    }
   ],
   "source": [
    "df_test.info()"
   ]
  },
  {
   "cell_type": "code",
   "execution_count": 17,
   "id": "d7c99ec1",
   "metadata": {
    "scrolled": false
   },
   "outputs": [
    {
     "data": {
      "text/plain": [
       "Index(['Neighborhood', 'ExterQual', 'Foundation', 'BsmtQual', 'BsmtFinType1',\n",
       "       'TotalBsmtSF', 'HeatingQC', 'firstFlrSF', 'GrLivArea', 'KitchenQual',\n",
       "       'GarageType', 'GarageFinish', 'GarageCars', 'GarageArea', 'GarageQual',\n",
       "       'SalePrice'],\n",
       "      dtype='object')"
      ]
     },
     "execution_count": 17,
     "metadata": {},
     "output_type": "execute_result"
    }
   ],
   "source": [
    "df_train.columns"
   ]
  },
  {
   "cell_type": "code",
   "execution_count": 32,
   "id": "7e826f61",
   "metadata": {},
   "outputs": [
    {
     "data": {
      "text/plain": [
       "Ex    733\n",
       "Fa    477\n",
       "Gd    239\n",
       "Name: HeatingQC, dtype: int64"
      ]
     },
     "execution_count": 32,
     "metadata": {},
     "output_type": "execute_result"
    }
   ],
   "source": [
    "trn.HeatingQC.value_counts()"
   ]
  },
  {
   "cell_type": "code",
   "execution_count": 34,
   "id": "ba8b60cf",
   "metadata": {},
   "outputs": [
    {
     "data": {
      "text/plain": [
       "Ex    746\n",
       "Fa    473\n",
       "Gd    232\n",
       "Name: HeatingQC, dtype: int64"
      ]
     },
     "execution_count": 34,
     "metadata": {},
     "output_type": "execute_result"
    }
   ],
   "source": [
    "tst.HeatingQC.value_counts()"
   ]
  },
  {
   "cell_type": "code",
   "execution_count": 33,
   "id": "311ef5c9",
   "metadata": {},
   "outputs": [],
   "source": [
    "tst.HeatingQC.replace('Po','Fa',inplace=True)"
   ]
  },
  {
   "cell_type": "code",
   "execution_count": 26,
   "id": "bed57f86",
   "metadata": {},
   "outputs": [],
   "source": [
    "trn = df_train.iloc[0:1449,]\n",
    "tst = df_test.iloc[0:1451,]"
   ]
  },
  {
   "cell_type": "code",
   "execution_count": 27,
   "id": "c7c62bac",
   "metadata": {},
   "outputs": [
    {
     "name": "stdout",
     "output_type": "stream",
     "text": [
      "                            OLS Regression Results                            \n",
      "==============================================================================\n",
      "Dep. Variable:              SalePrice   R-squared:                       0.879\n",
      "Model:                            OLS   Adj. R-squared:                  0.874\n",
      "Method:                 Least Squares   F-statistic:                     183.9\n",
      "Date:                Tue, 11 Jan 2022   Prob (F-statistic):               0.00\n",
      "Time:                        00:01:59   Log-Likelihood:                -16815.\n",
      "No. Observations:                1450   AIC:                         3.374e+04\n",
      "Df Residuals:                    1394   BIC:                         3.404e+04\n",
      "Df Model:                          55                                         \n",
      "Covariance Type:            nonrobust                                         \n",
      "===========================================================================================\n",
      "                              coef    std err          t      P>|t|      [0.025      0.975]\n",
      "-------------------------------------------------------------------------------------------\n",
      "Intercept                1.243e+05   1.14e+04     10.922      0.000    1.02e+05    1.47e+05\n",
      "C(GarageCars)[T.1]       8248.0290   4436.972      1.859      0.063    -455.834     1.7e+04\n",
      "C(GarageCars)[T.2]       6552.3980   5628.929      1.164      0.245   -4489.687    1.76e+04\n",
      "C(GarageCars)[T.3]       2.763e+04   7786.370      3.549      0.000    1.24e+04    4.29e+04\n",
      "C(GarageCars)[T.4]       1.857e+04   1.46e+04      1.274      0.203      -1e+04    4.72e+04\n",
      "Neighborhood[T.Blueste]  -623.1824   2.06e+04     -0.030      0.976   -4.09e+04    3.97e+04\n",
      "Neighborhood[T.BrDale]   4394.1764   1.02e+04      0.429      0.668   -1.57e+04    2.45e+04\n",
      "Neighborhood[T.BrkSide]  2.038e+04   8324.849      2.449      0.014    4054.005    3.67e+04\n",
      "Neighborhood[T.ClearCr]  2.811e+04   8795.442      3.196      0.001    1.09e+04    4.54e+04\n",
      "Neighborhood[T.CollgCr]   1.72e+04   7186.122      2.393      0.017    3101.869    3.13e+04\n",
      "Neighborhood[T.Crawfor]   4.09e+04   8125.577      5.034      0.000     2.5e+04    5.68e+04\n",
      "Neighborhood[T.Edwards]  3655.5831   7760.740      0.471      0.638   -1.16e+04    1.89e+04\n",
      "Neighborhood[T.Gilbert]  2.007e+04   7523.953      2.667      0.008    5310.079    3.48e+04\n",
      "Neighborhood[T.IDOTRR]    170.7159   8798.114      0.019      0.985   -1.71e+04    1.74e+04\n",
      "Neighborhood[T.MeadowV] -1.637e+04   9880.141     -1.657      0.098   -3.58e+04    3008.758\n",
      "Neighborhood[T.Mitchel]  3135.2323   8145.775      0.385      0.700   -1.28e+04    1.91e+04\n",
      "Neighborhood[T.NAmes]    7181.8491   7582.041      0.947      0.344   -7691.592    2.21e+04\n",
      "Neighborhood[T.NPkVill]  5988.2571   1.18e+04      0.507      0.612   -1.72e+04    2.91e+04\n",
      "Neighborhood[T.NWAmes]     1.2e+04   7962.047      1.508      0.132   -3614.270    2.76e+04\n",
      "Neighborhood[T.NoRidge]  4.353e+04   8260.006      5.270      0.000    2.73e+04    5.97e+04\n",
      "Neighborhood[T.NridgHt]   3.42e+04   7790.736      4.390      0.000    1.89e+04    4.95e+04\n",
      "Neighborhood[T.OldTown]   628.1106   7951.846      0.079      0.937    -1.5e+04    1.62e+04\n",
      "Neighborhood[T.SWISU]     -34.6193   9389.997     -0.004      0.997   -1.85e+04    1.84e+04\n",
      "Neighborhood[T.Sawyer]   8034.1229   7960.974      1.009      0.313   -7582.659    2.37e+04\n",
      "Neighborhood[T.SawyerW]   1.26e+04   7740.179      1.628      0.104   -2580.448    2.78e+04\n",
      "Neighborhood[T.Somerst]  2.708e+04   7442.350      3.639      0.000    1.25e+04    4.17e+04\n",
      "Neighborhood[T.StoneBr]  5.705e+04   8770.919      6.505      0.000    3.98e+04    7.43e+04\n",
      "Neighborhood[T.Timber]   2.313e+04   8065.185      2.868      0.004    7309.043     3.9e+04\n",
      "Neighborhood[T.Veenker]  4.964e+04   1.07e+04      4.658      0.000    2.87e+04    7.05e+04\n",
      "C(ExterQual)[T.Fa]      -5.628e+04   9759.191     -5.767      0.000   -7.54e+04   -3.71e+04\n",
      "C(ExterQual)[T.Gd]      -3.736e+04   5179.984     -7.212      0.000   -4.75e+04   -2.72e+04\n",
      "C(ExterQual)[T.TA]      -4.054e+04   5668.554     -7.151      0.000   -5.17e+04   -2.94e+04\n",
      "Foundation[T.CBlock]     5852.2116   2911.995      2.010      0.045     139.847    1.16e+04\n",
      "Foundation[T.PConc]      4490.3436   3248.199      1.382      0.167   -1881.542    1.09e+04\n",
      "BsmtQual[T.Fa]          -3.359e+04   6443.953     -5.212      0.000   -4.62e+04   -2.09e+04\n",
      "BsmtQual[T.Gd]          -2.542e+04   3639.619     -6.984      0.000   -3.26e+04   -1.83e+04\n",
      "BsmtQual[T.No]          -1.797e+04   7740.550     -2.321      0.020   -3.32e+04   -2783.743\n",
      "BsmtQual[T.TA]           -3.24e+04   4299.173     -7.535      0.000   -4.08e+04    -2.4e+04\n",
      "HeatingQC[T.Fa]         -6860.9361   2082.921     -3.294      0.001   -1.09e+04   -2774.939\n",
      "HeatingQC[T.Gd]         -3805.6666   2241.552     -1.698      0.090   -8202.845     591.512\n",
      "KitchenQual[T.Fa]       -4.086e+04   6357.403     -6.427      0.000   -5.33e+04   -2.84e+04\n",
      "KitchenQual[T.Gd]       -2.516e+04   3832.497     -6.565      0.000   -3.27e+04   -1.76e+04\n",
      "KitchenQual[T.TA]       -3.518e+04   4204.731     -8.367      0.000   -4.34e+04   -2.69e+04\n",
      "BsmtFinType1[T.BLQ]     -3065.9228   2972.348     -1.031      0.302   -8896.681    2764.835\n",
      "BsmtFinType1[T.GLQ]      3876.2490   2632.316      1.473      0.141   -1287.478    9039.976\n",
      "BsmtFinType1[T.LwQ]     -1.176e+04   3744.930     -3.139      0.002   -1.91e+04   -4409.930\n",
      "BsmtFinType1[T.Rec]     -7855.8124   3088.239     -2.544      0.011   -1.39e+04   -1797.715\n",
      "BsmtFinType1[T.Unf]     -1.372e+04   2522.596     -5.441      0.000   -1.87e+04   -8776.357\n",
      "GarageType[T.Attchd]     7879.3118   2316.607      3.401      0.001    3334.900    1.24e+04\n",
      "GarageType[T.BuiltIn]    1.581e+04   4071.836      3.883      0.000    7822.664    2.38e+04\n",
      "GarageFinish[T.RFn]     -4280.6425   2178.295     -1.965      0.050   -8553.733      -7.553\n",
      "GarageFinish[T.Unf]     -6625.7745   2582.558     -2.566      0.010   -1.17e+04   -1559.656\n",
      "TotalBsmtSF                29.3521      4.367      6.721      0.000      20.785      37.919\n",
      "firstFlrSF                  1.0236      4.571      0.224      0.823      -7.943       9.990\n",
      "GrLivArea                  54.2115      2.196     24.686      0.000      49.904      58.519\n",
      "GarageArea                 27.4082      8.026      3.415      0.001      11.664      43.152\n",
      "==============================================================================\n",
      "Omnibus:                      282.448   Durbin-Watson:                   2.002\n",
      "Prob(Omnibus):                  0.000   Jarque-Bera (JB):             2840.869\n",
      "Skew:                           0.598   Prob(JB):                         0.00\n",
      "Kurtosis:                       9.752   Cond. No.                     1.17e+05\n",
      "==============================================================================\n",
      "\n",
      "Notes:\n",
      "[1] Standard Errors assume that the covariance matrix of the errors is correctly specified.\n",
      "[2] The condition number is large, 1.17e+05. This might indicate that there are\n",
      "strong multicollinearity or other numerical problems.\n"
     ]
    }
   ],
   "source": [
    "model1_1=smf.ols(formula='SalePrice ~ TotalBsmtSF + firstFlrSF + GrLivArea + GarageArea + C(GarageCars) + Neighborhood + C(ExterQual) + Foundation + BsmtQual + HeatingQC + KitchenQual + BsmtFinType1 + GarageType + GarageFinish'\n",
    "               ,data=df_train).fit()\n",
    "print(model1_1.summary())"
   ]
  },
  {
   "cell_type": "code",
   "execution_count": 36,
   "id": "efa0f151",
   "metadata": {},
   "outputs": [],
   "source": [
    "x_tst = trn.loc[:, trn.columns == 'SalePrice']\n",
    "y_tst = tst.loc[:, tst.columns == 'SalePrice']"
   ]
  },
  {
   "cell_type": "code",
   "execution_count": 35,
   "id": "698d6991",
   "metadata": {},
   "outputs": [],
   "source": [
    "pred1_1 = model1_1.predict(tst)"
   ]
  },
  {
   "cell_type": "code",
   "execution_count": 38,
   "id": "05987d76",
   "metadata": {
    "scrolled": true
   },
   "outputs": [
    {
     "data": {
      "text/plain": [
       "0       124467.170582\n",
       "1       160067.249256\n",
       "2       171870.939006\n",
       "3       176975.810966\n",
       "4       216674.502279\n",
       "            ...      \n",
       "1446     96616.036991\n",
       "1447     99671.306492\n",
       "1448    104823.508892\n",
       "1449    141293.649413\n",
       "1450    106274.686199\n",
       "Length: 1451, dtype: float64"
      ]
     },
     "execution_count": 38,
     "metadata": {},
     "output_type": "execute_result"
    }
   ],
   "source": [
    "pred1_1"
   ]
  },
  {
   "cell_type": "code",
   "execution_count": 39,
   "id": "500bf5cd",
   "metadata": {},
   "outputs": [],
   "source": [
    "df_test['SalePrice'] = pred1_1"
   ]
  },
  {
   "cell_type": "code",
   "execution_count": 40,
   "id": "0bf52e0c",
   "metadata": {},
   "outputs": [
    {
     "name": "stdout",
     "output_type": "stream",
     "text": [
      "<class 'pandas.core.frame.DataFrame'>\n",
      "RangeIndex: 1452 entries, 0 to 1451\n",
      "Data columns (total 17 columns):\n",
      " #   Column        Non-Null Count  Dtype  \n",
      "---  ------        --------------  -----  \n",
      " 0   Neighborhood  1452 non-null   object \n",
      " 1   ExterQual     1452 non-null   object \n",
      " 2   Foundation    1452 non-null   object \n",
      " 3   BsmtQual      1452 non-null   object \n",
      " 4   BsmtFinType1  1452 non-null   object \n",
      " 5   TotalBsmtSF   1452 non-null   float64\n",
      " 6   HeatingQC     1452 non-null   object \n",
      " 7   CentralAir    1452 non-null   object \n",
      " 8   firstFlrSF    1452 non-null   int64  \n",
      " 9   GrLivArea     1452 non-null   int64  \n",
      " 10  KitchenQual   1451 non-null   object \n",
      " 11  GarageType    1452 non-null   object \n",
      " 12  GarageFinish  1452 non-null   object \n",
      " 13  GarageCars    1452 non-null   float64\n",
      " 14  GarageArea    1452 non-null   float64\n",
      " 15  GarageQual    1452 non-null   object \n",
      " 16  SalePrice     1450 non-null   float64\n",
      "dtypes: float64(4), int64(2), object(11)\n",
      "memory usage: 193.0+ KB\n"
     ]
    }
   ],
   "source": [
    "df_test.info()"
   ]
  }
 ],
 "metadata": {
  "kernelspec": {
   "display_name": "Python 3 (ipykernel)",
   "language": "python",
   "name": "python3"
  },
  "language_info": {
   "codemirror_mode": {
    "name": "ipython",
    "version": 3
   },
   "file_extension": ".py",
   "mimetype": "text/x-python",
   "name": "python",
   "nbconvert_exporter": "python",
   "pygments_lexer": "ipython3",
   "version": "3.9.7"
  }
 },
 "nbformat": 4,
 "nbformat_minor": 5
}
